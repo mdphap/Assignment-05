{
 "cells": [
  {
   "cell_type": "code",
   "execution_count": 1,
   "metadata": {},
   "outputs": [],
   "source": [
    "import pandas as pd\n",
    "import numpy as np\n",
    "from sklearn.model_selection import train_test_split\n",
    "from sklearn.feature_extraction.text import TfidfTransformer\n",
    "from sklearn.feature_extraction.text import CountVectorizer\n",
    "from sklearn.feature_extraction.text import TfidfVectorizer\n",
    "from sklearn.naive_bayes import MultinomialNB\n",
    "pd.set_option('float_format', '{:,.2f}'.format)\n",
    "pd.set_option('max_columns', None)"
   ]
  },
  {
   "cell_type": "code",
   "execution_count": 2,
   "metadata": {},
   "outputs": [],
   "source": [
    "# import dữ liệu\n",
    "data = pd.read_json(r'D:\\Machine Learning 3\\Apps_for_Android_5.json', lines = True)"
   ]
  },
  {
   "cell_type": "code",
   "execution_count": 3,
   "metadata": {},
   "outputs": [],
   "source": [
    "# drop các cột không sử dụng\n",
    "data = data.drop(columns = ['asin', 'helpful', 'reviewTime', 'reviewerID', 'reviewerName', 'unixReviewTime'])"
   ]
  },
  {
   "cell_type": "code",
   "execution_count": 4,
   "metadata": {},
   "outputs": [],
   "source": [
    "# phân loại good comment = 1 và bad comment = 0\n",
    "data.overall = np.where(data.overall>3,1,0)"
   ]
  },
  {
   "cell_type": "code",
   "execution_count": 5,
   "metadata": {},
   "outputs": [],
   "source": [
    "# split tập train và test\n",
    "data_train, data_test = train_test_split(data, test_size = 0.2, random_state = 0)"
   ]
  },
  {
   "cell_type": "code",
   "execution_count": 6,
   "metadata": {},
   "outputs": [],
   "source": [
    "stopWord = [\"i\", \"me\", \"my\", \"myself\", \"we\", \"our\", \"ours\", \"ourselves\", \"you\", \"your\", \"yours\", \"yourself\", \"yourselves\", \"he\", \"him\", \"his\", \"himself\", \"she\", \"her\", \"hers\", \"herself\", \"it\", \"its\", \"itself\", \"they\", \"them\", \"their\", \"theirs\", \"themselves\", \"what\", \"which\", \"who\", \"whom\", \"this\", \"that\", \"these\", \"those\", \"am\", \"is\", \"are\", \"was\", \"were\", \"be\", \"been\", \"being\", \"have\", \"has\", \"had\", \"having\", \"do\", \"does\", \"did\", \"doing\", \"a\", \"an\", \"the\", \"and\", \"but\", \"if\", \"or\", \"because\", \"as\", \"until\", \"while\", \"of\", \"at\", \"by\", \"for\", \"with\", \"about\", \"against\", \"between\", \"into\", \"through\", \"during\", \"before\", \"after\", \"above\", \"below\", \"to\", \"from\", \"up\", \"down\", \"in\", \"out\", \"on\", \"off\", \"over\", \"under\", \"again\", \"further\", \"then\", \"once\", \"here\", \"there\", \"when\", \"where\", \"why\", \"how\", \"all\", \"any\", \"both\", \"each\", \"few\", \"more\", \"most\", \"other\", \"some\", \"such\", \"no\", \"nor\", \"not\", \"only\", \"own\", \"same\", \"so\", \"than\", \"too\", \"very\", \"s\", \"t\", \"can\", \"will\", \"just\", \"don\", \"should\", \"now\"]"
   ]
  },
  {
   "cell_type": "code",
   "execution_count": 10,
   "metadata": {},
   "outputs": [
    {
     "name": "stdout",
     "output_type": "stream",
     "text": [
      "1. Classifier thứ nhất: BoW + Naive Bayes\n"
     ]
    }
   ],
   "source": []
  },
  {
   "cell_type": "code",
   "execution_count": 7,
   "metadata": {},
   "outputs": [],
   "source": [
    "# instance class CountVectorizer (áp dụng stopWord và token_pattern)\n",
    "count_vectorizer = CountVectorizer(stop_words = stopWord)"
   ]
  },
  {
   "cell_type": "code",
   "execution_count": 8,
   "metadata": {},
   "outputs": [],
   "source": [
    "# fit và transform dữ liệu thô chưa xử lý để tạo Count Vector\n",
    "X_train = count_vectorizer.fit_transform(data_train.reviewText)"
   ]
  },
  {
   "cell_type": "code",
   "execution_count": 9,
   "metadata": {},
   "outputs": [],
   "source": [
    "# Naive Bayes (1st)\n",
    "clf_1st = MultinomialNB().fit(X_train, data_train.overall)"
   ]
  },
  {
   "cell_type": "code",
   "execution_count": 10,
   "metadata": {},
   "outputs": [
    {
     "name": "stdout",
     "output_type": "stream",
     "text": [
      "Accuracy of classifier: 0.84\n"
     ]
    }
   ],
   "source": [
    "# chạy thử trên tập test\n",
    "X_test = count_vectorizer.transform(data_test.reviewText)\n",
    "predicted_1st = clf_1st.predict(X_test)\n",
    "count = sum(predicted_1st == data_test.overall)\n",
    "print('Accuracy of classifier: %.2f' %(count/len(predicted_1st)))"
   ]
  },
  {
   "cell_type": "code",
   "execution_count": 48,
   "metadata": {},
   "outputs": [
    {
     "name": "stdout",
     "output_type": "stream",
     "text": [
      "2. Classifier thứ hai: BoW(tf-idf) + Naive Bayes\n"
     ]
    }
   ],
   "source": []
  },
  {
   "cell_type": "code",
   "execution_count": 11,
   "metadata": {},
   "outputs": [],
   "source": [
    "# instance class CountVectorizer\n",
    "tfidf_vectorizer = TfidfVectorizer(stop_words = stopWord)"
   ]
  },
  {
   "cell_type": "code",
   "execution_count": 12,
   "metadata": {},
   "outputs": [],
   "source": [
    "# fit và transform dữ liệu thô chưa xử lý để tạo Count Vector\n",
    "X_train = tfidf_vectorizer.fit_transform(data_train.reviewText)"
   ]
  },
  {
   "cell_type": "code",
   "execution_count": 13,
   "metadata": {},
   "outputs": [],
   "source": [
    "# Naive Bayes (2nd)\n",
    "clf_2nd = MultinomialNB().fit(X_train, data_train.overall)"
   ]
  },
  {
   "cell_type": "code",
   "execution_count": 14,
   "metadata": {},
   "outputs": [
    {
     "name": "stdout",
     "output_type": "stream",
     "text": [
      "Accuracy of classifier: 0.80\n"
     ]
    }
   ],
   "source": [
    "# chạy thử trên tập test\n",
    "X_test = tfidf_vectorizer.transform(data_test.reviewText)\n",
    "predicted_2nd = clf_2nd.predict(X_test)\n",
    "count = sum(predicted_2nd == data_test.overall)\n",
    "print('Accuracy of classifier: %.2f' %(count/len(predicted_2nd)))"
   ]
  },
  {
   "cell_type": "code",
   "execution_count": 19,
   "metadata": {},
   "outputs": [
    {
     "name": "stdout",
     "output_type": "stream",
     "text": [
      "3. Classifier thứ ba: BoW(tf-idf + n-gram) + Naive Bayes\n"
     ]
    }
   ],
   "source": []
  },
  {
   "cell_type": "code",
   "execution_count": 15,
   "metadata": {},
   "outputs": [],
   "source": [
    "tfidf_vectorizer_ngram = TfidfVectorizer(stop_words = stopWord, ngram_range = (2,2))"
   ]
  },
  {
   "cell_type": "code",
   "execution_count": 16,
   "metadata": {},
   "outputs": [],
   "source": [
    "# fit và transform dữ liệu thô chưa xử lý để tạo Count Vector\n",
    "X_train_ngram = tfidf_vectorizer_ngram.fit_transform(data_train.reviewText)"
   ]
  },
  {
   "cell_type": "code",
   "execution_count": 17,
   "metadata": {},
   "outputs": [],
   "source": [
    "# Naive Bayes (3rd)\n",
    "clf_3rd = MultinomialNB().fit(X_train_ngram, data_train.overall)"
   ]
  },
  {
   "cell_type": "code",
   "execution_count": 18,
   "metadata": {},
   "outputs": [
    {
     "name": "stdout",
     "output_type": "stream",
     "text": [
      "Accuracy of classifier: 0.77\n"
     ]
    }
   ],
   "source": [
    "# chạy thử trên tập test\n",
    "X_test = tfidf_vectorizer_ngram.transform(data_test.reviewText)\n",
    "predicted_3rd = clf_3rd.predict(X_test)\n",
    "count = sum(predicted_3rd == data_test.overall)\n",
    "print('Accuracy of classifier: %.2f' %(count/len(predicted_3rd)))"
   ]
  },
  {
   "cell_type": "code",
   "execution_count": 31,
   "metadata": {},
   "outputs": [
    {
     "name": "stdout",
     "output_type": "stream",
     "text": [
      "  (0, 52837)\t0.2181211797617941\n",
      "  (0, 78403)\t0.49027004659987716\n",
      "  (0, 51835)\t0.15199033677973103\n",
      "  (0, 112863)\t0.3679703643026574\n",
      "  (0, 102881)\t0.2888302413710175\n",
      "  (0, 35913)\t0.2612060414804373\n",
      "  (0, 23329)\t0.4562885841829794\n",
      "  (0, 73067)\t0.3011002594826984\n",
      "  (0, 68039)\t0.32100317461709726\n"
     ]
    }
   ],
   "source": [
    "print(X_train[0])"
   ]
  },
  {
   "cell_type": "code",
   "execution_count": null,
   "metadata": {},
   "outputs": [],
   "source": []
  }
 ],
 "metadata": {
  "kernelspec": {
   "display_name": "Python 3",
   "language": "python",
   "name": "python3"
  },
  "language_info": {
   "codemirror_mode": {
    "name": "ipython",
    "version": 3
   },
   "file_extension": ".py",
   "mimetype": "text/x-python",
   "name": "python",
   "nbconvert_exporter": "python",
   "pygments_lexer": "ipython3",
   "version": "3.7.0"
  }
 },
 "nbformat": 4,
 "nbformat_minor": 2
}
